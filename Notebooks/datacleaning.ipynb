{
 "cells": [
  {
   "cell_type": "markdown",
   "id": "6682dc56-b357-49bf-9b3c-ec4e86260258",
   "metadata": {},
   "source": [
    "# Introduction: Light down Singapore\n",
    "Light pollution is an often overlooked form of pollution that has many harmful effects on people and ecosystems. In this project, I analyze satellite data to understand how light pollution has affected Singapore and other countries."
   ]
  },
  {
   "cell_type": "markdown",
   "id": "f2a28311-9a02-450f-ac75-26b35e6e52a3",
   "metadata": {},
   "source": [
    "## Step 1: Installing & importing the packages"
   ]
  },
  {
   "cell_type": "code",
   "execution_count": 1,
   "id": "fb1739d8-3061-4aea-b97e-67aac757dc0f",
   "metadata": {},
   "outputs": [
    {
     "name": "stdout",
     "output_type": "stream",
     "text": [
      "Requirement already satisfied: pandas in c:\\users\\weisg\\anaconda3\\lib\\site-packages (2.2.2)\n",
      "Requirement already satisfied: numpy>=1.26.0 in c:\\users\\weisg\\anaconda3\\lib\\site-packages (from pandas) (1.26.4)\n",
      "Requirement already satisfied: python-dateutil>=2.8.2 in c:\\users\\weisg\\anaconda3\\lib\\site-packages (from pandas) (2.9.0.post0)\n",
      "Requirement already satisfied: pytz>=2020.1 in c:\\users\\weisg\\anaconda3\\lib\\site-packages (from pandas) (2024.1)\n",
      "Requirement already satisfied: tzdata>=2022.7 in c:\\users\\weisg\\anaconda3\\lib\\site-packages (from pandas) (2023.3)\n",
      "Requirement already satisfied: six>=1.5 in c:\\users\\weisg\\anaconda3\\lib\\site-packages (from python-dateutil>=2.8.2->pandas) (1.16.0)\n",
      "Requirement already satisfied: numpy in c:\\users\\weisg\\anaconda3\\lib\\site-packages (1.26.4)\n",
      "Requirement already satisfied: rasterio in c:\\users\\weisg\\anaconda3\\lib\\site-packages (1.4.3)\n",
      "Requirement already satisfied: affine in c:\\users\\weisg\\anaconda3\\lib\\site-packages (from rasterio) (2.4.0)\n",
      "Requirement already satisfied: attrs in c:\\users\\weisg\\anaconda3\\lib\\site-packages (from rasterio) (25.3.0)\n",
      "Requirement already satisfied: certifi in c:\\users\\weisg\\anaconda3\\lib\\site-packages (from rasterio) (2025.4.26)\n",
      "Requirement already satisfied: click>=4.0 in c:\\users\\weisg\\anaconda3\\lib\\site-packages (from rasterio) (8.1.7)\n",
      "Requirement already satisfied: cligj>=0.5 in c:\\users\\weisg\\anaconda3\\lib\\site-packages (from rasterio) (0.7.2)\n",
      "Requirement already satisfied: numpy>=1.24 in c:\\users\\weisg\\anaconda3\\lib\\site-packages (from rasterio) (1.26.4)\n",
      "Requirement already satisfied: click-plugins in c:\\users\\weisg\\anaconda3\\lib\\site-packages (from rasterio) (1.1.1)\n",
      "Requirement already satisfied: pyparsing in c:\\users\\weisg\\anaconda3\\lib\\site-packages (from rasterio) (3.1.2)\n",
      "Requirement already satisfied: colorama in c:\\users\\weisg\\anaconda3\\lib\\site-packages (from click>=4.0->rasterio) (0.4.6)\n",
      "Requirement already satisfied: geopandas in c:\\users\\weisg\\anaconda3\\lib\\site-packages (1.1.0)\n",
      "Requirement already satisfied: numpy>=1.24 in c:\\users\\weisg\\anaconda3\\lib\\site-packages (from geopandas) (1.26.4)\n",
      "Requirement already satisfied: pyogrio>=0.7.2 in c:\\users\\weisg\\anaconda3\\lib\\site-packages (from geopandas) (0.11.0)\n",
      "Requirement already satisfied: packaging in c:\\users\\weisg\\anaconda3\\lib\\site-packages (from geopandas) (24.1)\n",
      "Requirement already satisfied: pandas>=2.0.0 in c:\\users\\weisg\\anaconda3\\lib\\site-packages (from geopandas) (2.2.2)\n",
      "Requirement already satisfied: pyproj>=3.5.0 in c:\\users\\weisg\\anaconda3\\lib\\site-packages (from geopandas) (3.7.1)\n",
      "Requirement already satisfied: shapely>=2.0.0 in c:\\users\\weisg\\anaconda3\\lib\\site-packages (from geopandas) (2.1.1)\n",
      "Requirement already satisfied: python-dateutil>=2.8.2 in c:\\users\\weisg\\anaconda3\\lib\\site-packages (from pandas>=2.0.0->geopandas) (2.9.0.post0)\n",
      "Requirement already satisfied: pytz>=2020.1 in c:\\users\\weisg\\anaconda3\\lib\\site-packages (from pandas>=2.0.0->geopandas) (2024.1)\n",
      "Requirement already satisfied: tzdata>=2022.7 in c:\\users\\weisg\\anaconda3\\lib\\site-packages (from pandas>=2.0.0->geopandas) (2023.3)\n",
      "Requirement already satisfied: certifi in c:\\users\\weisg\\anaconda3\\lib\\site-packages (from pyogrio>=0.7.2->geopandas) (2025.4.26)\n",
      "Requirement already satisfied: six>=1.5 in c:\\users\\weisg\\anaconda3\\lib\\site-packages (from python-dateutil>=2.8.2->pandas>=2.0.0->geopandas) (1.16.0)\n"
     ]
    }
   ],
   "source": [
    "!pip install pandas\n",
    "!pip install numpy\n",
    "!pip install rasterio\n",
    "!pip install geopandas\n",
    "\n",
    "import pandas as pd\n",
    "import numpy as np\n",
    "import rasterio\n",
    "import geopandas as gpd\n",
    "from shapely.geometry import Point\n",
    "import os\n",
    "import re"
   ]
  },
  {
   "cell_type": "markdown",
   "id": "ce317da8-4a66-4b71-8cf7-abdcc8887293",
   "metadata": {},
   "source": [
    "## Step 2: Preparing the data\n",
    "We use rasterio to open the GeoTiff file, which contains the coordinates and brightness levels for the whole world.\n",
    "We use a GeoJSON file, containing the coordinates of only Singapore to do a basic filtering and then create a dataframe to map the brightness to coordinates."
   ]
  },
  {
   "cell_type": "code",
   "execution_count": 2,
   "id": "c6220375-e573-450a-adf3-c001426a7aac",
   "metadata": {},
   "outputs": [],
   "source": [
    "import geopandas as gpd\n",
    "import rasterio\n",
    "import numpy as np\n",
    "import pandas as pd\n",
    "import os\n",
    "from shapely.geometry import Point\n",
    "\n",
    "# Opening the JSON file\n",
    "sgcoords = gpd.read_file(r\"C:\\Users\\weisg\\OneDrive\\Documents\\Y2S1\\Projects\\LightPollution\\Data\\sg.json\")\n",
    "sgcoords = sgcoords.to_crs(\"EPSG:4326\")\n",
    "\n",
    "# Function to generate a grid of coordinates over each location\n",
    "def gencoords(polygon, spacing=0.001):\n",
    "    minx, miny, maxx, maxy = polygon.bounds\n",
    "    x_vals = np.arange(minx, maxx, spacing)\n",
    "    y_vals = np.arange(miny, maxy, spacing)\n",
    "    points = [Point(x, y) for x in x_vals for y in y_vals if polygon.contains(Point(x, y))]\n",
    "    return points\n",
    "\n",
    "grid_points = []\n",
    "region_names = []\n",
    "\n",
    "# Generate grid points for all polygons\n",
    "for _, row in sgcoords.iterrows():\n",
    "    polygon = row['geometry']\n",
    "    name = row['properties']['name'] if 'properties' in row and 'name' in row['properties'] else row.get('name', 'unknown')\n",
    "    points = gencoords(polygon)\n",
    "    grid_points.extend(points)\n",
    "    region_names.extend([name] * len(points))\n",
    "\n",
    "# Prepare a base GeoDataFrame with all grid points\n",
    "base_gdf = gpd.GeoDataFrame({'region': region_names, 'geometry': grid_points}, crs='EPSG:4326')\n",
    "\n",
    "# Folder with GeoTIFF files\n",
    "tif_folder = r\"C:\\Users\\weisg\\OneDrive\\Documents\\Y2S1\\Projects\\LightPollutiondata\"\n",
    "tif_files = [f for f in os.listdir(tif_folder) if f.endswith(\".tif\")]\n",
    "\n",
    "all_years_data = []\n",
    "\n",
    "for tif_file in tif_files:\n",
    "    # Extract year from filename (e.g., lightpollution_2015.tif)\n",
    "    year = ''.join(filter(str.isdigit, tif_file))\n",
    "    if not year:\n",
    "        continue  # Skip files with no year in name\n",
    "\n",
    "    dataset = rasterio.open(os.path.join(tif_folder, tif_file))\n",
    "    coords = [(point.x, point.y) for point in base_gdf.geometry]\n",
    "    \n",
    "    brightness = []\n",
    "    for val in dataset.sample(coords):\n",
    "        brightness.append(val[0] if val[0] > 0 else None)\n",
    "\n",
    "    # Create a copy of base GeoDataFrame and add brightness + year\n",
    "    year_gdf = base_gdf.copy()\n",
    "    year_gdf['Brightness'] = brightness\n",
    "    year_gdf['Year'] = int(year)\n",
    "\n",
    "    # Filter out null brightness\n",
    "    year_gdf = year_gdf[year_gdf['Brightness'].notnull()]\n",
    "    all_years_data.append(year_gdf)"
   ]
  },
  {
   "cell_type": "markdown",
   "id": "93b48b52-f3d4-4059-851f-79f6ae9ce258",
   "metadata": {},
   "source": [
    "## Step 3: Create the dataframe\n",
    "After cleaning and filtering the data, we just have to choose the rows we want in our dataframe and export it."
   ]
  },
  {
   "cell_type": "code",
   "execution_count": 3,
   "id": "d8197eac-4196-4bf8-bd70-6e1ed7a3ec1d",
   "metadata": {},
   "outputs": [],
   "source": [
    "# Combine all years' data\n",
    "final_gdf = pd.concat(all_years_data, ignore_index=True)\n",
    "\n",
    "# Export to CSV\n",
    "final_gdf.to_csv(\"brightness_by_year.csv\", index=False)"
   ]
  },
  {
   "cell_type": "code",
   "execution_count": null,
   "id": "f23b3882-c564-44f3-8d28-e778a61d6802",
   "metadata": {},
   "outputs": [],
   "source": []
  }
 ],
 "metadata": {
  "kernelspec": {
   "display_name": "Python 3 (ipykernel)",
   "language": "python",
   "name": "python3"
  },
  "language_info": {
   "codemirror_mode": {
    "name": "ipython",
    "version": 3
   },
   "file_extension": ".py",
   "mimetype": "text/x-python",
   "name": "python",
   "nbconvert_exporter": "python",
   "pygments_lexer": "ipython3",
   "version": "3.12.7"
  }
 },
 "nbformat": 4,
 "nbformat_minor": 5
}
