{
 "cells": [
  {
   "cell_type": "markdown",
   "id": "6682dc56-b357-49bf-9b3c-ec4e86260258",
   "metadata": {},
   "source": [
    "# Introduction: Light down Singapore\n",
    "Light pollution is an often overlooked form of pollution that has many harmful effects on people and ecosystems. In this project, I analyze satellite data to understand how light pollution has affected Singapore and other countries."
   ]
  },
  {
   "cell_type": "markdown",
   "id": "f2a28311-9a02-450f-ac75-26b35e6e52a3",
   "metadata": {},
   "source": [
    "## Step 1: Installing & importing the packages"
   ]
  },
  {
   "cell_type": "code",
   "execution_count": 5,
   "id": "fb1739d8-3061-4aea-b97e-67aac757dc0f",
   "metadata": {},
   "outputs": [
    {
     "name": "stdout",
     "output_type": "stream",
     "text": [
      "Hello\n"
     ]
    }
   ],
   "source": [
    "!pip install pandas\n",
    "!pip install numpy\n",
    "!pip install rasterio\n",
    "\n",
    "import pandas as pd\n",
    "import numpy as np\n",
    "import rasterio"
   ]
  },
  {
   "cell_type": "markdown",
   "id": "ce317da8-4a66-4b71-8cf7-abdcc8887293",
   "metadata": {},
   "source": [
    "## Step 2: Preparing the data\n",
    "We use rasterio to open the GeoTiff file, do a basic filtering and then create a dataframe to map brightness to coordinates."
   ]
  },
  {
   "cell_type": "code",
   "execution_count": 23,
   "id": "c6220375-e573-450a-adf3-c001426a7aac",
   "metadata": {},
   "outputs": [],
   "source": [
    "# Opening the GeoTiff file\n",
    "\n",
    "dataset = rasterio.open(r\"C:\\Users\\weisg\\OneDrive\\Documents\\Y2S1\\Projects\\LightPollution\\Data\\geotiffdata.tif\")\n",
    "data = dataset.read(1)\n",
    "transform = dataset.transform\n",
    "\n",
    "# Filter the data to get rid of places with 0 light\n",
    "rows, cols = np.where(data > 0)\n",
    "\n",
    "lons, lats = rasterio.transform.xy(transform, rows, cols)\n",
    "lons = np.array(lons)\n",
    "lats = np.array(lats)\n",
    "\n",
    "brightness = data[rows, cols]\n",
    "\n",
    "df = pd.DataFrame({\n",
    "    'latitude': lats,\n",
    "    'longitude': lons,\n",
    "    'brightness': brightness\n",
    "})"
   ]
  },
  {
   "cell_type": "markdown",
   "id": "93b48b52-f3d4-4059-851f-79f6ae9ce258",
   "metadata": {},
   "source": [
    "## Step 3: Filter the GeoTiff file to only Singapore\n",
    "Since this file contains data for the whole world, we have to further filter it to get just the data for Singapore. \n",
    "To do this, we use Singapore's bounding box, which I got from here: https://gist.github.com/graydon/11198540"
   ]
  },
  {
   "cell_type": "code",
   "execution_count": 25,
   "id": "d8197eac-4196-4bf8-bd70-6e1ed7a3ec1d",
   "metadata": {},
   "outputs": [],
   "source": [
    "# Singapore's bounding box coordinates\n",
    "maxlat, maxlon = 1.4504753, 104.0120359\n",
    "minlat, minlon = 1.1304753, 103.6920359\n",
    "\n",
    "# Filtering the earlier dataframe to only Singapore\n",
    "sgdataframe = df[\n",
    "    (df['latitude'] >= minlat) & (df['latitude'] <= maxlat) &\n",
    "    (df['longitude'] >= minlon) & (df['longitude'] <= maxlon)\n",
    "]\n",
    "\n",
    "# Export the filtered data to a csv file\n",
    "sgdataframe.to_csv('singaporebrightness.csv', index=False)"
   ]
  }
 ],
 "metadata": {
  "kernelspec": {
   "display_name": "Python 3 (ipykernel)",
   "language": "python",
   "name": "python3"
  },
  "language_info": {
   "codemirror_mode": {
    "name": "ipython",
    "version": 3
   },
   "file_extension": ".py",
   "mimetype": "text/x-python",
   "name": "python",
   "nbconvert_exporter": "python",
   "pygments_lexer": "ipython3",
   "version": "3.12.7"
  }
 },
 "nbformat": 4,
 "nbformat_minor": 5
}
